{
 "cells": [
  {
   "cell_type": "code",
   "execution_count": null,
   "id": "bb1a7f26",
   "metadata": {},
   "outputs": [],
   "source": [
    "# Importando as bibliotecas necessárias\n",
    "import requests  # Para fazer solicitações HTTP\n",
    "import pandas as pd  # Para manipulação de dados em formato de tabela\n",
    "from azure.storage.blob import BlobServiceClient  # Para acessar o Azure Blob Storage\n",
    "import csv  # Para trabalhar com arquivos CSV\n",
    "from io import StringIO  # Para trabalhar com dados de texto em memória\n",
    "\n",
    "from pyspark.sql import SparkSession  # Para trabalhar com Spark SQL\n",
    "\n",
    "# Crie uma instância da sessão Spark\n",
    "spark = SparkSession.builder.appName(\"MinhaAplicacao\").getOrCreate()\n",
    "\n",
    "# Fontes externas de dados\n",
    "\n",
    "# Capturando dados do IBGE através de sua API\n",
    "url = \"https://servicodados.ibge.gov.br/api/v1/localidades/distritos\"\n",
    "response = requests.get(url)\n",
    "\n",
    "# Capturando dados do Azure Blob Storage\n",
    "\n",
    "# Definindo a string de conexão do Azure Blob Storage\n",
    "connection_string = \"------\"  # Aqui deveria estar a string de conexão real\n",
    "blob_service_client = BlobServiceClient.from_connection_string(connection_string)\n",
    "\n",
    "# Nome do container onde está o arquivo CSV\n",
    "container_name = \"neydados\"\n",
    "blob_name = \"tbfuncionario.csv\"\n",
    "\n",
    "# Obtendo uma referência para o blob no Azure Blob Storage\n",
    "blob_client = blob_service_client.get_blob_client(container=container_name, blob=blob_name)\n",
    "\n",
    "# Baixando o conteúdo do blob\n",
    "blob_data = blob_client.download_blob()\n",
    "\n",
    "# Lendo o conteúdo do blob como texto e convertendo para CSV\n",
    "conteudo = blob_data.content_as_text()\n",
    "dados_csv = list(csv.reader(StringIO(conteudo)))\n",
    "\n",
    "# Imprimindo os dados CSV obtidos do blob\n",
    "print(dados_csv)"
   ]
  },
  {
   "cell_type": "code",
   "execution_count": 87,
   "id": "8f97d954",
   "metadata": {},
   "outputs": [],
   "source": [
    "# Criando um DataFrame a partir dos dados CSV obtidos do Azure Blob Storage.\n",
    "# Os dados estão contidos em 'dados_csv', onde 'dados_csv[0]' contém os cabeçalhos das colunas e 'dados_csv[1:]' contém os dados.\n",
    "# O método 'spark.createDataFrame()' do Spark cria um DataFrame a partir de uma lista de linhas e um esquema opcional.\n",
    "df_funcionario_blob = spark.createDataFrame(data=dados_csv[1:], schema=dados_csv[0])\n",
    "\n",
    "# Criando um DataFrame a partir da resposta JSON obtida da API do IBGE.\n",
    "# A resposta JSON contém dados sobre distritos, que serão convertidos em um DataFrame.\n",
    "# O método 'response.json()' retorna os dados JSON da resposta HTTP.\n",
    "df_ibge = spark.createDataFrame(response.json())"
   ]
  },
  {
   "cell_type": "code",
   "execution_count": 88,
   "id": "0af19b91",
   "metadata": {},
   "outputs": [
    {
     "name": "stdout",
     "output_type": "stream",
     "text": [
      "+--------------+--------+---------------+------------+-------------+-------+------------+\n",
      "|id_funcionario|    nome|          cargo|departamento|data_admissao|salario|id_municipio|\n",
      "+--------------+--------+---------------+------------+-------------+-------+------------+\n",
      "|             1|    João|Sales Associate|      Vendas|   2020-01-01|2500.00|   211400705|\n",
      "|             2|   Maria|  Sales Manager|      Vendas|   2018-05-15|3500.00|   310020305|\n",
      "|             3|  Carlos|     Accountant|    Finanças|   2019-03-10|3000.00|   211400705|\n",
      "|             4|  Marcos|     Accountant|    Finanças|   2019-03-10|3000.00|   310020305|\n",
      "|             5|Danielly|      Associate|      Vendas|   2019-03-10|3000.00|   310020305|\n",
      "+--------------+--------+---------------+------------+-------------+-------+------------+\n",
      "\n"
     ]
    }
   ],
   "source": [
    "# Mostra o conteúdo do DataFrame df_funcionario_blob.\n",
    "# O método .show() é usado para exibir as primeiras linhas do DataFrame na saída padrão.\n",
    "\n",
    "df_funcionario_blob.show()"
   ]
  },
  {
   "cell_type": "code",
   "execution_count": 89,
   "id": "3938220a",
   "metadata": {},
   "outputs": [
    {
     "name": "stdout",
     "output_type": "stream",
     "text": [
      "+---------+--------------------+--------------------+\n",
      "|       id|           municipio|                nome|\n",
      "+---------+--------------------+--------------------+\n",
      "|520005005|{microrregiao -> ...|     Abadia de Goiás|\n",
      "|310010405|{microrregiao -> ...| Abadia dos Dourados|\n",
      "|520010005|{microrregiao -> ...|           Abadiânia|\n",
      "|520010010|{microrregiao -> ...|      Posse d'Abadia|\n",
      "|310020305|{microrregiao -> ...|              Abaeté|\n",
      "|150010705|{microrregiao -> ...|          Abaetetuba|\n",
      "|150010710|{microrregiao -> ...|                Beja|\n",
      "|230010105|{microrregiao -> ...|             Abaiara|\n",
      "|230010120|{microrregiao -> ...|            São José|\n",
      "|230010125|{microrregiao -> ...|               Oitis|\n",
      "|230010130|{microrregiao -> ...|           Triângulo|\n",
      "|230010135|{microrregiao -> ...|Olho D'Água de Pe...|\n",
      "|290010805|{microrregiao -> ...|              Abaíra|\n",
      "|290010810|{microrregiao -> ...|             Catolés|\n",
      "|290020705|{microrregiao -> ...|               Abaré|\n",
      "|290020710|{microrregiao -> ...|                 Ibó|\n",
      "|410010305|{microrregiao -> ...|              Abatiá|\n",
      "|420005105|{microrregiao -> ...|       Abdon Batista|\n",
      "|150013105|{microrregiao -> ...|     Abel Figueiredo|\n",
      "|420010105|{microrregiao -> ...|        Abelardo Luz|\n",
      "+---------+--------------------+--------------------+\n",
      "only showing top 20 rows\n",
      "\n"
     ]
    }
   ],
   "source": [
    "# Mostra o conteúdo do DataFrame df_ibge.\n",
    "# O método .show() é usado para exibir as primeiras linhas do DataFrame na saída padrão.\n",
    "\n",
    "\n",
    "df_ibge.show()"
   ]
  },
  {
   "cell_type": "code",
   "execution_count": 90,
   "id": "965b5466",
   "metadata": {},
   "outputs": [],
   "source": [
    "# Tratamento do DataFrame df_ibge\n",
    "\n",
    "# Renomeando a coluna 'nome' para 'nome_municipio' no DataFrame df_ibge.\n",
    "df_ibge = df_ibge.withColumnRenamed('nome', 'nome_municipio')\n",
    "\n",
    "# Selecionando apenas as colunas 'nome_municipio' e 'id' no DataFrame df_ibge.\n",
    "df_ibge = df_ibge.select('nome_municipio', 'id')\n",
    "\n",
    "\n",
    "# Tratamento do DataFrame df_funcionario_blob\n",
    "\n",
    "# Selecionando apenas as colunas 'id_municipio', 'nome', 'cargo' e 'id_funcionario' no DataFrame df_funcionario_blob.\n",
    "df_funcionario_blob = df_funcionario_blob.select('id_municipio', 'nome', 'cargo', 'id_funcionario')"
   ]
  },
  {
   "cell_type": "code",
   "execution_count": 91,
   "id": "f727a2c0",
   "metadata": {},
   "outputs": [
    {
     "name": "stdout",
     "output_type": "stream",
     "text": [
      "+------------+--------+---------------+--------------+\n",
      "|id_municipio|    nome|          cargo|id_funcionario|\n",
      "+------------+--------+---------------+--------------+\n",
      "|   211400705|    João|Sales Associate|             1|\n",
      "|   310020305|   Maria|  Sales Manager|             2|\n",
      "|   211400705|  Carlos|     Accountant|             3|\n",
      "|   310020305|  Marcos|     Accountant|             4|\n",
      "|   310020305|Danielly|      Associate|             5|\n",
      "+------------+--------+---------------+--------------+\n",
      "\n"
     ]
    }
   ],
   "source": [
    "# Mostra o conteúdo do DataFrame apos o tratamento\n",
    "df_funcionario_blob.show()\n"
   ]
  },
  {
   "cell_type": "code",
   "execution_count": 92,
   "id": "4b8b3d99",
   "metadata": {},
   "outputs": [
    {
     "name": "stdout",
     "output_type": "stream",
     "text": [
      "+--------------------+---------+\n",
      "|      nome_municipio|       id|\n",
      "+--------------------+---------+\n",
      "|     Abadia de Goiás|520005005|\n",
      "| Abadia dos Dourados|310010405|\n",
      "|           Abadiânia|520010005|\n",
      "|      Posse d'Abadia|520010010|\n",
      "|              Abaeté|310020305|\n",
      "|          Abaetetuba|150010705|\n",
      "|                Beja|150010710|\n",
      "|             Abaiara|230010105|\n",
      "|            São José|230010120|\n",
      "|               Oitis|230010125|\n",
      "|           Triângulo|230010130|\n",
      "|Olho D'Água de Pe...|230010135|\n",
      "|              Abaíra|290010805|\n",
      "|             Catolés|290010810|\n",
      "|               Abaré|290020705|\n",
      "|                 Ibó|290020710|\n",
      "|              Abatiá|410010305|\n",
      "|       Abdon Batista|420005105|\n",
      "|     Abel Figueiredo|150013105|\n",
      "|        Abelardo Luz|420010105|\n",
      "+--------------------+---------+\n",
      "only showing top 20 rows\n",
      "\n"
     ]
    }
   ],
   "source": [
    "df_ibge.show()"
   ]
  },
  {
   "cell_type": "code",
   "execution_count": 93,
   "id": "e04567e1",
   "metadata": {},
   "outputs": [],
   "source": [
    "# Junção entre os DataFrames df_ibge e df_funcionario_blob\n",
    "# Utilizando a coluna 'id' do df_ibge e a coluna 'id_municipio' do df_funcionario_blob como chaves de junção.\n",
    "# A junção é do tipo 'inner', ou seja, apenas as linhas que possuem correspondência em ambos os DataFrames serão mantidas.\n",
    "\n",
    "\n",
    "df_relacion=df_ibge.join(df_funcionario_blob,df_ibge.id==df_funcionario_blob.id_municipio,'inner').drop('id')\n"
   ]
  },
  {
   "cell_type": "code",
   "execution_count": 94,
   "id": "90ae1243",
   "metadata": {},
   "outputs": [
    {
     "name": "stdout",
     "output_type": "stream",
     "text": [
      "+--------------+------------+--------+---------------+--------------+\n",
      "|nome_municipio|id_municipio|    nome|          cargo|id_funcionario|\n",
      "+--------------+------------+--------+---------------+--------------+\n",
      "|       Zé Doca|   211400705|    João|Sales Associate|             1|\n",
      "|        Abaeté|   310020305|   Maria|  Sales Manager|             2|\n",
      "|       Zé Doca|   211400705|  Carlos|     Accountant|             3|\n",
      "|        Abaeté|   310020305|  Marcos|     Accountant|             4|\n",
      "|        Abaeté|   310020305|Danielly|      Associate|             5|\n",
      "+--------------+------------+--------+---------------+--------------+\n",
      "\n"
     ]
    }
   ],
   "source": [
    "df_relacion.show()"
   ]
  },
  {
   "cell_type": "code",
   "execution_count": 95,
   "id": "eea0dc70",
   "metadata": {},
   "outputs": [
    {
     "name": "stdout",
     "output_type": "stream",
     "text": [
      "{'id': '1', 'nome_municipio': 'Zé Doca', 'id_municipio': '211400705', 'nome': 'João', 'cargo': 'Sales Associate'}\n",
      "{'id': '2', 'nome_municipio': 'Abaeté', 'id_municipio': '310020305', 'nome': 'Maria', 'cargo': 'Sales Manager'}\n",
      "{'id': '3', 'nome_municipio': 'Zé Doca', 'id_municipio': '211400705', 'nome': 'Carlos', 'cargo': 'Accountant'}\n",
      "{'id': '4', 'nome_municipio': 'Abaeté', 'id_municipio': '310020305', 'nome': 'Marcos', 'cargo': 'Accountant'}\n",
      "{'id': '5', 'nome_municipio': 'Abaeté', 'id_municipio': '310020305', 'nome': 'Danielly', 'cargo': 'Associate'}\n"
     ]
    }
   ],
   "source": [
    "for dado in df_relacion.collect():\n",
    "    \n",
    "    dados = {\n",
    "    \"id\":dado[4],\n",
    "    \"nome_municipio\": dado[0],\n",
    "    \"id_municipio\": dado[1],\n",
    "    \"nome\": dado[2],\n",
    "    \"cargo\": dado[3],\n",
    "    }\n",
    "    print(dados)\n"
   ]
  },
  {
   "cell_type": "code",
   "execution_count": 96,
   "id": "232e847d",
   "metadata": {},
   "outputs": [
    {
     "name": "stdout",
     "output_type": "stream",
     "text": [
      "{'id': '1', 'nome_municipio': 'Zé Doca', 'id_municipio': '211400705', 'nome': 'João', 'cargo': 'Sales Associate'}\n",
      "{'id': '2', 'nome_municipio': 'Abaeté', 'id_municipio': '310020305', 'nome': 'Maria', 'cargo': 'Sales Manager'}\n",
      "{'id': '3', 'nome_municipio': 'Zé Doca', 'id_municipio': '211400705', 'nome': 'Carlos', 'cargo': 'Accountant'}\n",
      "{'id': '4', 'nome_municipio': 'Abaeté', 'id_municipio': '310020305', 'nome': 'Marcos', 'cargo': 'Accountant'}\n",
      "{'id': '5', 'nome_municipio': 'Abaeté', 'id_municipio': '310020305', 'nome': 'Danielly', 'cargo': 'Associate'}\n",
      "Dados inseridos com sucesso!\n"
     ]
    }
   ],
   "source": [
    "# Defina a string de conexão para o seu banco de dados Cosmos\n",
    "connection_string =                                                                                             \"\"\n",
    "\n",
    "# Crie uma instância do cliente Cosmos utilizando a string de conexão\n",
    "client = CosmosClient.from_connection_string(connection_string)\n",
    "\n",
    "# Acesse ou crie um banco de dados e um contêiner no Cosmos\n",
    "database_name =                                                                                                       \"\"\n",
    "container_name = \"\"\n",
    "database = client.get_database_client(database_name)\n",
    "container = database.get_container_client(container_name)\n",
    "\n",
    "# Dados de exemplo para inserir no contêiner\n",
    "for dado in df_relacion.collect():\n",
    "    # Cria um dicionário 'dados' contendo os valores de cada linha do DataFrame\n",
    "    dados = {\n",
    "        \"id\": dado[4],\n",
    "        \"nome_municipio\": dado[0],\n",
    "        \"id_municipio\": dado[1],\n",
    "        \"nome\": dado[2],\n",
    "        \"cargo\": dado[3],\n",
    "    }\n",
    "    # Imprime os dados de cada linha\n",
    "    print(dados)\n",
    "    # Insere os dados no contêiner do Cosmos\n",
    "    container.create_item(body=dados)\n",
    "\n",
    "# Mensagem indicando que os dados foram inseridos com sucesso\n",
    "print(\"Dados inseridos com sucesso!\")"
   ]
  },
  {
   "cell_type": "code",
   "execution_count": null,
   "id": "931b3b25",
   "metadata": {},
   "outputs": [],
   "source": []
  }
 ],
 "metadata": {
  "kernelspec": {
   "display_name": "Python 3",
   "language": "python",
   "name": "python3"
  },
  "language_info": {
   "codemirror_mode": {
    "name": "ipython",
    "version": 3
   },
   "file_extension": ".py",
   "mimetype": "text/x-python",
   "name": "python",
   "nbconvert_exporter": "python",
   "pygments_lexer": "ipython3",
   "version": "3.6.9"
  }
 },
 "nbformat": 4,
 "nbformat_minor": 5
}
